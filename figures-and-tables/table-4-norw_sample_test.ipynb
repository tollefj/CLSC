{
 "cells": [
  {
   "cell_type": "code",
   "execution_count": 1,
   "metadata": {},
   "outputs": [
    {
     "name": "stderr",
     "output_type": "stream",
     "text": [
      "/usr/lib/python3/dist-packages/requests/__init__.py:87: RequestsDependencyWarning: urllib3 (2.2.1) or chardet (4.0.0) doesn't match a supported version!\n",
      "  warnings.warn(\"urllib3 ({}) or chardet ({}) doesn't match a supported \"\n",
      "/home/tollef/.local/lib/python3.10/site-packages/tqdm/auto.py:21: TqdmWarning: IProgress not found. Please update jupyter and ipywidgets. See https://ipywidgets.readthedocs.io/en/stable/user_install.html\n",
      "  from .autonotebook import tqdm as notebook_tqdm\n"
     ]
    },
    {
     "name": "stdout",
     "output_type": "stream",
     "text": [
      "Model overview: {'da': 'Helsinki-NLP/opus-mt-en-gem', 'de': 'Helsinki-NLP/opus-mt-en-gem', 'no': 'Helsinki-NLP/opus-mt-en-gem', 'is': 'Helsinki-NLP/opus-mt-en-gem', 'lt': 'Helsinki-NLP/opus-mt-en-bat', 'pl': 'Helsinki-NLP/opus-mt-en-zlw', 'hu': 'Helsinki-NLP/opus-mt-en-urj', 'fr': 'Helsinki-NLP/opus-mt-en-roa', 'ms': 'Helsinki-NLP/opus-mt-en-map', 'sq': 'Helsinki-NLP/opus-mt-en-sq', 'eu': 'Helsinki-NLP/opus-mt-en-eu'}\n"
     ]
    }
   ],
   "source": [
    "import sys\n",
    "sys.path.append(\"..\")\n",
    "from utils.model_utils import load_model, load_baseline, generate\n",
    "from config import OPUS_MT_MODELS_FAMILY, get_prefix, OPUS_MT_MODELS\n",
    "import os\n"
   ]
  },
  {
   "cell_type": "code",
   "execution_count": 2,
   "metadata": {},
   "outputs": [
    {
     "name": "stdout",
     "output_type": "stream",
     "text": [
      "Helsinki-NLP/opus-mt-en-gem\n",
      "['>>nob<< I walked to the park, found a cozy spot on a bench, and sat there enjoying the breathtaking sunset.']\n",
      "Baseline translation\n",
      "Jeg gikk til parken, fant et hyggelig sted på en benk, og satt der nyter den betagende solnedgangen.\n"
     ]
    }
   ],
   "source": [
    "sents = [\n",
    "    \"- Okay, Mr. Conroy, can you tell me your location?\",\n",
    "    \"- I don't know. I'm in a coffin, I don't know where. Please help me, I'm scared.\"\n",
    "]\n",
    "# sents = [\n",
    "#     \"- Okay, Mr. Conroy, can you tell me your location?\",\n",
    "#     \"- I don't know. I'm in a coffin, I don't know where.\",\n",
    "#     \"Please help me, I'm scared.\"\n",
    "# ]\n",
    "\n",
    "sents = [\n",
    "    # want: \"I enjoyed the sunset at the park\"\n",
    "    \"I walked to the park, found a cozy spot on a bench, and sat there enjoying the breathtaking sunset.\",\n",
    "]\n",
    "\n",
    "# baseline translation:\n",
    "target = \"no\"\n",
    "\n",
    "baseline = OPUS_MT_MODELS[target]\n",
    "print(baseline)\n",
    "baseline_model, baseline_tokenizer = load_baseline(baseline)\n",
    "baseline_sents = [f\"{get_prefix(target)} {s}\"for s in sents]\n",
    "print(baseline_sents)\n",
    "baseline_translation = generate(baseline_model, baseline_tokenizer, source_texts=baseline_sents)\n",
    "print(\"Baseline translation\")\n",
    "for t in baseline_translation:\n",
    "    print(t)\n",
    "    \n",
    "del baseline_model\n",
    "del baseline_tokenizer\n"
   ]
  },
  {
   "cell_type": "code",
   "execution_count": 4,
   "metadata": {},
   "outputs": [
    {
     "ename": "IndexError",
     "evalue": "list index out of range",
     "output_type": "error",
     "traceback": [
      "\u001b[0;31m---------------------------------------------------------------------------\u001b[0m",
      "\u001b[0;31mIndexError\u001b[0m                                Traceback (most recent call last)",
      "Cell \u001b[0;32mIn[4], line 11\u001b[0m\n\u001b[1;32m      8\u001b[0m \u001b[38;5;28;01mfor\u001b[39;00m sample_size \u001b[38;5;129;01min\u001b[39;00m sample_sizes:\n\u001b[1;32m      9\u001b[0m     \u001b[38;5;66;03m# print(f\"Sample size={sample_size}\")\u001b[39;00m\n\u001b[1;32m     10\u001b[0m     path \u001b[38;5;241m=\u001b[39m os\u001b[38;5;241m.\u001b[39mpath\u001b[38;5;241m.\u001b[39mjoin(\u001b[38;5;124m\"\u001b[39m\u001b[38;5;124m..\u001b[39m\u001b[38;5;124m\"\u001b[39m, \u001b[38;5;124m\"\u001b[39m\u001b[38;5;124mOUTPUT-flex-multisize\u001b[39m\u001b[38;5;124m\"\u001b[39m, \u001b[38;5;124mf\u001b[39m\u001b[38;5;124m\"\u001b[39m\u001b[38;5;124men-\u001b[39m\u001b[38;5;132;01m{\u001b[39;00mtarget\u001b[38;5;132;01m}\u001b[39;00m\u001b[38;5;124m-flexitoken-\u001b[39m\u001b[38;5;132;01m{\u001b[39;00msample_size\u001b[38;5;132;01m}\u001b[39;00m\u001b[38;5;124m\"\u001b[39m)\n\u001b[0;32m---> 11\u001b[0m     model, tokenizer \u001b[38;5;241m=\u001b[39m \u001b[43mload_model\u001b[49m\u001b[43m(\u001b[49m\u001b[43mpath\u001b[49m\u001b[38;5;241;43m=\u001b[39;49m\u001b[43mpath\u001b[49m\u001b[43m)\u001b[49m\n\u001b[1;32m     13\u001b[0m     \u001b[38;5;28;01mfor\u001b[39;00m c \u001b[38;5;129;01min\u001b[39;00m [\u001b[38;5;241m0.5\u001b[39m, \u001b[38;5;241m0.7\u001b[39m, \u001b[38;5;241m0.9\u001b[39m]:\n\u001b[1;32m     14\u001b[0m         \u001b[38;5;66;03m# print(f\"Comp.rate={c}\")\u001b[39;00m\n\u001b[1;32m     15\u001b[0m         prefix \u001b[38;5;241m=\u001b[39m get_compression_prefix(c, target)\n",
      "File \u001b[0;32m~/git/PhD/Papers/subtitle-compression/figures-and-tables/../utils/model_utils.py:16\u001b[0m, in \u001b[0;36mload_model\u001b[0;34m(path, device)\u001b[0m\n\u001b[1;32m     13\u001b[0m     \u001b[38;5;28mprint\u001b[39m(\u001b[38;5;124mf\u001b[39m\u001b[38;5;124m\"\u001b[39m\u001b[38;5;124mPath \u001b[39m\u001b[38;5;132;01m{\u001b[39;00mpath\u001b[38;5;132;01m}\u001b[39;00m\u001b[38;5;124m does not exist.\u001b[39m\u001b[38;5;124m\"\u001b[39m)\n\u001b[1;32m     14\u001b[0m     \u001b[38;5;28;01mreturn\u001b[39;00m \u001b[38;5;28;01mNone\u001b[39;00m, \u001b[38;5;28;01mNone\u001b[39;00m\n\u001b[0;32m---> 16\u001b[0m last_checkpoint \u001b[38;5;241m=\u001b[39m \u001b[38;5;28;43msorted\u001b[39;49m\u001b[43m(\u001b[49m\u001b[43mos\u001b[49m\u001b[38;5;241;43m.\u001b[39;49m\u001b[43mlistdir\u001b[49m\u001b[43m(\u001b[49m\u001b[43mpath\u001b[49m\u001b[43m)\u001b[49m\u001b[43m)\u001b[49m\u001b[43m[\u001b[49m\u001b[38;5;241;43m-\u001b[39;49m\u001b[38;5;241;43m1\u001b[39;49m\u001b[43m]\u001b[49m\n\u001b[1;32m     17\u001b[0m path \u001b[38;5;241m=\u001b[39m os\u001b[38;5;241m.\u001b[39mpath\u001b[38;5;241m.\u001b[39mjoin(path, last_checkpoint)\n\u001b[1;32m     18\u001b[0m model \u001b[38;5;241m=\u001b[39m MarianMTModel\u001b[38;5;241m.\u001b[39mfrom_pretrained(path)\u001b[38;5;241m.\u001b[39mto(device)\n",
      "\u001b[0;31mIndexError\u001b[0m: list index out of range"
     ]
    }
   ],
   "source": [
    "from collections import defaultdict\n",
    "from config import get_compression_prefix, COMPRESSION_RATIOS, sample_sizes\n",
    "\n",
    "target = \"fr\"\n",
    "# Model type 2 (compression token)\n",
    "\n",
    "outputs = defaultdict(dict)\n",
    "for sample_size in sample_sizes:\n",
    "    # print(f\"Sample size={sample_size}\")\n",
    "    path = os.path.join(\"..\", \"OUTPUT-flex-multisize\", f\"en-{target}-flexitoken-{sample_size}\")\n",
    "    model, tokenizer = load_model(path=path)\n",
    "\n",
    "    for c in [0.5, 0.7, 0.9]:\n",
    "        # print(f\"Comp.rate={c}\")\n",
    "        prefix = get_compression_prefix(c, target)\n",
    "        trans = generate(model, tokenizer, source_texts=sents, prefix=prefix)\n",
    "        outputs[c][sample_size] = trans"
   ]
  },
  {
   "cell_type": "code",
   "execution_count": null,
   "metadata": {},
   "outputs": [
    {
     "name": "stdout",
     "output_type": "stream",
     "text": [
      "0.5\n",
      "Comp rate=0.5, Sample size=50000\n",
      "J'ai trouvé un endroit confortable sur un banc, et j'ai aimé le coucher de soleil.\n",
      "\n",
      "Comp rate=0.5, Sample size=100000\n",
      "J'ai trouvé un endroit confortable sur un banc, et j'ai aimé le coucher de soleil.\n",
      "\n",
      "Comp rate=0.5, Sample size=250000\n",
      "J'ai trouvé un endroit confortable sur un banc, et j'ai aimé le coucher de soleil.\n",
      "\n",
      "Comp rate=0.5, Sample size=500000\n",
      "J'ai trouvé un endroit confortable sur un banc, et j'ai adoré le coucher du soleil.\n",
      "\n",
      "Comp rate=0.5, Sample size=1000000\n",
      "J'ai trouvé un endroit confortable sur un banc, et j'ai aimé le coucher du soleil.\n",
      "\n",
      "0.7\n",
      "Comp rate=0.7, Sample size=50000\n",
      "Je suis allée au parc, j'ai trouvé un endroit confortable sur un banc, et j'ai aimé le coucher de soleil.\n",
      "\n",
      "Comp rate=0.7, Sample size=100000\n",
      "Je suis allée au parc, j'ai trouvé un endroit confortable sur un banc, et j'ai aimé le coucher de soleil.\n",
      "\n",
      "Comp rate=0.7, Sample size=250000\n",
      "Je suis allée au parc, j'ai trouvé un endroit confortable sur un banc, et j'ai aimé le coucher de soleil.\n",
      "\n",
      "Comp rate=0.7, Sample size=500000\n",
      "Je suis allé au parc, j'ai trouvé un endroit confortable sur un banc, et j'étais assis à l'assaut du soleil.\n",
      "\n",
      "Comp rate=0.7, Sample size=1000000\n",
      "Je suis allé au parc, j'ai trouvé un endroit confortable sur un banc, et j'étais là à l'assaut du soleil.\n",
      "\n",
      "0.9\n",
      "Comp rate=0.9, Sample size=50000\n",
      "Je suis allée au parc, j'ai trouvé un endroit confortable sur un banc, et j'étais assis là à profiter du coucher de soleil.\n",
      "\n",
      "Comp rate=0.9, Sample size=100000\n",
      "Je suis allée au parc, j'ai trouvé un endroit confortable sur un banc, et j'étais assis là à profiter du coucher de soleil.\n",
      "\n",
      "Comp rate=0.9, Sample size=250000\n",
      "Je suis allé au parc, j'ai trouvé un endroit confortable sur un banc, et j'étais assis là à profiter du coucher de soleil.\n",
      "\n",
      "Comp rate=0.9, Sample size=500000\n",
      "Je suis allée au parc, j'ai trouvé un endroit confortable sur un banc, et j'étais assis là à profiter du coucher de soleil.\n",
      "\n",
      "Comp rate=0.9, Sample size=1000000\n",
      "Je suis allé au parc, j'ai trouvé un endroit confortable sur un banc, et j'étais assis à l'assaut du coucher de soleil.\n",
      "\n"
     ]
    }
   ],
   "source": [
    "for comp, sample_size in outputs.items():\n",
    "    print(comp)\n",
    "    for s, t in sample_size.items():\n",
    "        print(f\"Comp rate={comp}, Sample size={s}\")\n",
    "        for _t in t:\n",
    "            print(_t)\n",
    "        print()"
   ]
  },
  {
   "cell_type": "code",
   "execution_count": null,
   "metadata": {},
   "outputs": [],
   "source": []
  }
 ],
 "metadata": {
  "kernelspec": {
   "display_name": "licompression-translation",
   "language": "python",
   "name": "python3"
  },
  "language_info": {
   "codemirror_mode": {
    "name": "ipython",
    "version": 3
   },
   "file_extension": ".py",
   "mimetype": "text/x-python",
   "name": "python",
   "nbconvert_exporter": "python",
   "pygments_lexer": "ipython3",
   "version": "3.10.12"
  }
 },
 "nbformat": 4,
 "nbformat_minor": 2
}
