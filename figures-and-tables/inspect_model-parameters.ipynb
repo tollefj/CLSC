{
 "cells": [
  {
   "cell_type": "code",
   "execution_count": 4,
   "metadata": {},
   "outputs": [
    {
     "name": "stdout",
     "output_type": "stream",
     "text": [
      "germanic\n",
      "Parameters: 73.7M\n",
      "baltic\n",
      "Parameters: 74.9M\n",
      "west_slavic\n",
      "Parameters: 74.4M\n",
      "uralic\n",
      "Parameters: 74.8M\n",
      "romance\n",
      "Parameters: 73.7M\n"
     ]
    }
   ],
   "source": [
    "import sys\n",
    "sys.path.append(\"../\")\n",
    "from transformers import MarianMTModel\n",
    "from config import OPUS_MT_MODELS_FAMILY, get_compression_prefix, COMPRESSION_RATIOS\n",
    "\n",
    "def human_format(num):\n",
    "    num = float('{:.3g}'.format(num))\n",
    "    magnitude = 0\n",
    "    while abs(num) >= 1000:\n",
    "        magnitude += 1\n",
    "        num /= 1000.0\n",
    "    return '{}{}'.format('{:f}'.format(num).rstrip('0').rstrip('.'), ['', 'K', 'M', 'G', 'T'][magnitude])\n",
    "\n",
    "\n",
    "for model_lang, model_id in OPUS_MT_MODELS_FAMILY.items():\n",
    "    print(model_lang)\n",
    "    model = MarianMTModel.from_pretrained(model_id)\n",
    "    print(f\"Parameters: {human_format(sum(p.numel() for p in model.parameters()))}\")"
   ]
  }
 ],
 "metadata": {
  "kernelspec": {
   "display_name": "licompression-translation",
   "language": "python",
   "name": "python3"
  },
  "language_info": {
   "codemirror_mode": {
    "name": "ipython",
    "version": 3
   },
   "file_extension": ".py",
   "mimetype": "text/x-python",
   "name": "python",
   "nbconvert_exporter": "python",
   "pygments_lexer": "ipython3",
   "version": "3.11.8"
  }
 },
 "nbformat": 4,
 "nbformat_minor": 2
}
