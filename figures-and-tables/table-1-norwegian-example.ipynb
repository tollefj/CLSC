{
 "cells": [
  {
   "cell_type": "code",
   "execution_count": 6,
   "metadata": {},
   "outputs": [],
   "source": [
    "import sys\n",
    "sys.path.append(\"..\")\n",
    "from utils.model_utils import load_model, load_baseline, generate\n",
    "from config import OPUS_MT_MODELS_FAMILY\n",
    "import os\n",
    "\n",
    "# Model type 2 (compression token)\n",
    "target_lang = \"no\"\n",
    "path = os.path.join(\"..\", \"OUTPUT-flex\", f\"en-{target_lang}\")\n",
    "model, tokenizer = load_model(path=path)\n"
   ]
  },
  {
   "cell_type": "code",
   "execution_count": 7,
   "metadata": {},
   "outputs": [
    {
     "name": "stdout",
     "output_type": "stream",
     "text": [
      "Helsinki-NLP/opus-mt-en-gem\n"
     ]
    }
   ],
   "source": [
    "germanic = OPUS_MT_MODELS_FAMILY[\"germanic\"]\n",
    "print(germanic)\n",
    "baseline_model, baseline_tokenizer = load_baseline(germanic)"
   ]
  },
  {
   "cell_type": "code",
   "execution_count": 8,
   "metadata": {},
   "outputs": [
    {
     "name": "stdout",
     "output_type": "stream",
     "text": [
      "Baseline translation\n",
      "['- Ok, Mr. Conroy, kan du fortelle meg hvor du er?', 'Jeg er i en kiste, jeg vet ikke hvor.']\n",
      "Comp.rate=0.5\n",
      "../OUTPUT/en-no/0.5\n",
      "Model 1 results\n",
      "['Kan du si hvor du er?', 'Jeg er i en kiste, jeg vet ikke hvor.']\n",
      "Model 2 results\n",
      "['Kan du si hvor du er?', 'Jeg er i en kiste.']\n",
      "\n",
      "Comp.rate=0.7\n",
      "../OUTPUT/en-no/0.7\n",
      "Model 1 results\n",
      "['Kan du si hvor du er, Mr. Conroy?', 'Jeg er i en kiste, jeg vet ikke hvor.']\n",
      "Model 2 results\n",
      "['Kan du si hvor du er?', 'Jeg er i en kiste, jeg vet ikke hvor.']\n",
      "\n",
      "Comp.rate=0.9\n",
      "../OUTPUT/en-no/0.9\n",
      "Model 1 results\n",
      "['Kan du si hvor du er, Mr. Conroy?', 'Jeg er i en kiste, jeg vet ikke hvor jeg er.']\n",
      "Model 2 results\n",
      "['Kan du fortelle hvor du er?', 'Jeg er i en kiste, jeg vet ikke hvor.']\n",
      "\n"
     ]
    }
   ],
   "source": [
    "from config import get_compression_prefix, COMPRESSION_RATIOS\n",
    "\n",
    "sents = [\n",
    "    \"- Okay, Mr. Conroy, can you tell me your location?\",\n",
    "    \"- I don't know. I'm in a coffin, I don't know where. Please help me, I'm scared.\"\n",
    "]\n",
    "# sents = [\n",
    "#     \"- Okay, Mr. Conroy, can you tell me your location?\",\n",
    "#     \"- I don't know. I'm in a coffin, I don't know where.\",\n",
    "#     \"Please help me, I'm scared.\"\n",
    "# ]\n",
    "target = \"no\"\n",
    "\n",
    "# baseline translation:\n",
    "baseline_sents = [f\">>nob<< {s}\" for s in sents]\n",
    "baseline_translation = generate(baseline_model, baseline_tokenizer, source_texts=baseline_sents)\n",
    "print(\"Baseline translation\")\n",
    "print(baseline_translation)\n",
    "\n",
    "\n",
    "for c in [0.5, 0.7, 0.9]:\n",
    "    print(f\"Comp.rate={c}\")\n",
    "    # Model type 1 (single compression level)\n",
    "    model1_path = os.path.join(\"..\", \"OUTPUT\", f\"en-{target_lang}\", str(c))\n",
    "    print(model1_path)\n",
    "    model1, tokenizer1 = load_model(path=model1_path)\n",
    "    print(\"Model 1 results\")\n",
    "    print(generate(model1, tokenizer1, source_texts=sents))\n",
    "\n",
    "    print(\"Model 2 results\")\n",
    "    prefix = get_compression_prefix(c, target)\n",
    "    print(generate(model, tokenizer, source_texts=sents, prefix=prefix))\n",
    "\n",
    "    \n",
    "    print()"
   ]
  }
 ],
 "metadata": {
  "kernelspec": {
   "display_name": "licompression-translation",
   "language": "python",
   "name": "python3"
  },
  "language_info": {
   "codemirror_mode": {
    "name": "ipython",
    "version": 3
   },
   "file_extension": ".py",
   "mimetype": "text/x-python",
   "name": "python",
   "nbconvert_exporter": "python",
   "pygments_lexer": "ipython3",
   "version": "3.11.8"
  }
 },
 "nbformat": 4,
 "nbformat_minor": 2
}
