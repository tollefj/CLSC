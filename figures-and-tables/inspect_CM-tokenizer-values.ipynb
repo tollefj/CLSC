{
 "cells": [
  {
   "cell_type": "code",
   "execution_count": 11,
   "metadata": {},
   "outputs": [
    {
     "data": {
      "text/plain": [
       "MarianTokenizer(name_or_path='Helsinki-NLP/opus-mt-en-gem', vocab_size=56629, model_max_length=512, is_fast=False, padding_side='right', truncation_side='right', special_tokens={'eos_token': '</s>', 'unk_token': '<unk>', 'pad_token': '<pad>'}, clean_up_tokenization_spaces=True),  added_tokens_decoder={\n",
       "\t0: AddedToken(\"</s>\", rstrip=False, lstrip=False, single_word=False, normalized=False, special=True),\n",
       "\t1: AddedToken(\"<unk>\", rstrip=False, lstrip=False, single_word=False, normalized=False, special=True),\n",
       "\t56628: AddedToken(\"<pad>\", rstrip=False, lstrip=False, single_word=False, normalized=False, special=True),\n",
       "}"
      ]
     },
     "execution_count": 11,
     "metadata": {},
     "output_type": "execute_result"
    }
   ],
   "source": [
    "import sys\n",
    "sys.path.append(\"../\")\n",
    "from transformers import MarianTokenizer\n",
    "from config import OPUS_MT_MODELS_FAMILY, get_compression_prefix, COMPRESSION_RATIOS\n",
    "\n",
    "model = OPUS_MT_MODELS_FAMILY[\"germanic\"]\n",
    "\n",
    "tokenizer = MarianTokenizer.from_pretrained(model)\n",
    "tokenizer"
   ]
  },
  {
   "cell_type": "code",
   "execution_count": 14,
   "metadata": {},
   "outputs": [
    {
     "name": "stdout",
     "output_type": "stream",
     "text": [
      "0.5\n",
      "[1217, 28408, 0]\n",
      "0.6\n",
      "[1217, 49915, 0]\n",
      "0.7\n",
      "[1217, 46184, 0]\n",
      "0.8\n",
      "[1217, 52665, 0]\n",
      "0.9\n",
      "[1217, 45305, 0]\n",
      "1.0\n",
      "[1217, 40544, 0]\n"
     ]
    }
   ],
   "source": [
    "for comp_rate in COMPRESSION_RATIOS:\n",
    "    print(comp_rate)\n",
    "    prefix = get_compression_prefix(comp_rate, lang=\"da\")\n",
    "    print(tokenizer(prefix)[\"input_ids\"])"
   ]
  }
 ],
 "metadata": {
  "kernelspec": {
   "display_name": "licompression-translation",
   "language": "python",
   "name": "python3"
  },
  "language_info": {
   "codemirror_mode": {
    "name": "ipython",
    "version": 3
   },
   "file_extension": ".py",
   "mimetype": "text/x-python",
   "name": "python",
   "nbconvert_exporter": "python",
   "pygments_lexer": "ipython3",
   "version": "3.11.8"
  }
 },
 "nbformat": 4,
 "nbformat_minor": 2
}
