{
 "cells": [
  {
   "cell_type": "code",
   "execution_count": null,
   "metadata": {},
   "outputs": [],
   "source": [
    "from evaluation_tools import evaluate"
   ]
  },
  {
   "cell_type": "code",
   "execution_count": null,
   "metadata": {},
   "outputs": [],
   "source": [
    "from config import OPUS_MT_MODELS\n",
    "OPUS_MT_MODELS"
   ]
  },
  {
   "cell_type": "code",
   "execution_count": null,
   "metadata": {},
   "outputs": [],
   "source": [
    "modeltypes = [\"singlemodel\", \"tokenmodel\"]\n",
    "\n",
    "langs = {\n",
    "    \"opensub\": OPUS_MT_MODELS.keys(),\n",
    "    \"europarl\": [\"fr\", \"hu\", \"lt\", \"pl\"]\n",
    "}\n",
    "\n",
    "bootstrap = 5\n",
    "samples_per_run = 1000\n",
    "batch_size = 8\n",
    "results_folder = f\"results_{samples_per_run}samples_{bootstrap}bootstrap\"\n",
    "\n",
    "for mt in [\"singlemodel\", \"tokenmodel\"]:\n",
    "    for dataset in [\"europarl\"]:\n",
    "        print(f\"Evaluating {mt} on {dataset}\")\n",
    "        evaluate(model_type=mt, langs=langs[dataset], dataset=dataset, output_folder=results_folder, batch_size=batch_size, samples_per_run=samples_per_run, subsampling_n=bootstrap)"
   ]
  }
 ],
 "metadata": {
  "kernelspec": {
   "display_name": "base",
   "language": "python",
   "name": "python3"
  },
  "language_info": {
   "codemirror_mode": {
    "name": "ipython",
    "version": 3
   },
   "file_extension": ".py",
   "mimetype": "text/x-python",
   "name": "python",
   "nbconvert_exporter": "python",
   "pygments_lexer": "ipython3",
   "version": "3.12.2"
  }
 },
 "nbformat": 4,
 "nbformat_minor": 2
}
