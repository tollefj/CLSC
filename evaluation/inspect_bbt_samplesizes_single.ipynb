{
 "cells": [
  {
   "cell_type": "code",
   "execution_count": 1,
   "metadata": {},
   "outputs": [],
   "source": [
    "%load_ext autoreload\n",
    "%autoreload 2"
   ]
  },
  {
   "cell_type": "code",
   "execution_count": 2,
   "metadata": {},
   "outputs": [
    {
     "name": "stdout",
     "output_type": "stream",
     "text": [
      "Loading config. model overview: {'da': 'Helsinki-NLP/opus-mt-en-gem', 'de': 'Helsinki-NLP/opus-mt-en-gem', 'no': 'Helsinki-NLP/opus-mt-en-gem', 'is': 'Helsinki-NLP/opus-mt-en-gem', 'lt': 'Helsinki-NLP/opus-mt-en-bat', 'pl': 'Helsinki-NLP/opus-mt-en-zlw', 'hu': 'Helsinki-NLP/opus-mt-en-urj', 'fr': 'Helsinki-NLP/opus-mt-en-roa', 'ms': 'Helsinki-NLP/opus-mt-en-map', 'sq': 'Helsinki-NLP/opus-mt-en-sq', 'eu': 'Helsinki-NLP/opus-mt-en-eu'}\n"
     ]
    }
   ],
   "source": [
    "import sys\n",
    "sys.path.append(\"..\")\n",
    "\n",
    "import csv\n",
    "import os\n",
    "\n",
    "from evaluator import Evaluator\n",
    "\n",
    "from config import OPUS_MT_MODELS, prefixes\n",
    "from utils.data_utils import get_bbt_data\n",
    "from utils.model_utils import load_baseline, load_model, translate_all"
   ]
  },
  {
   "cell_type": "code",
   "execution_count": 3,
   "metadata": {},
   "outputs": [
    {
     "name": "stderr",
     "output_type": "stream",
     "text": [
      "100%|██████████| 6/6 [00:02<00:00,  2.54it/s]\n"
     ]
    }
   ],
   "source": [
    "lang = \"no\"\n",
    "src_texts, tar_texts, prefixed = get_bbt_data(prefix=prefixes.get(lang, \"\"))\n",
    "baseline_model, baseline_tokenizer = load_baseline(OPUS_MT_MODELS[lang])\n",
    "baseline_translations = translate_all(prefixed, baseline_model, baseline_tokenizer, batch_size=16)\n",
    "del baseline_model, baseline_tokenizer"
   ]
  },
  {
   "cell_type": "code",
   "execution_count": 4,
   "metadata": {},
   "outputs": [
    {
     "data": {
      "text/plain": [
       "['Kan jeg mate jordnøtter til elefantene på bryllupet ditt?',\n",
       " 'Selvfølgelig vil det være elefanter det er en stereotype som du mater dem jordnøtter',\n",
       " 'Takk Penny og Leonard jeg var litt håpet jeg kunne sitte ved siden av Anu',\n",
       " 'Ja det er bare vi ikke har gjort det ennå og jeg tror det er viktig å være sikker på at vi er kompatibel før vi gifter oss',\n",
       " 'Jeg kan skaffe oss et rom på hotellet mitt.']"
      ]
     },
     "execution_count": 4,
     "metadata": {},
     "output_type": "execute_result"
    }
   ],
   "source": [
    "baseline_translations[:5]"
   ]
  },
  {
   "cell_type": "code",
   "execution_count": 5,
   "metadata": {},
   "outputs": [
    {
     "name": "stderr",
     "output_type": "stream",
     "text": [
      "[nltk_data] Downloading package wordnet to /home/tollef/nltk_data...\n",
      "[nltk_data]   Package wordnet is already up-to-date!\n",
      "[nltk_data] Downloading package punkt to /home/tollef/nltk_data...\n",
      "[nltk_data]   Package punkt is already up-to-date!\n",
      "[nltk_data] Downloading package omw-1.4 to /home/tollef/nltk_data...\n",
      "[nltk_data]   Package omw-1.4 is already up-to-date!\n",
      "84it [00:14,  5.77it/s]\n"
     ]
    }
   ],
   "source": [
    "evaluator = Evaluator()\n",
    "baseline_metrics = evaluator.get_results(\n",
    "    predictions=baseline_translations,\n",
    "    references=tar_texts,\n",
    "    source=src_texts,\n",
    "    lang=lang,\n",
    ")"
   ]
  },
  {
   "cell_type": "code",
   "execution_count": 6,
   "metadata": {},
   "outputs": [
    {
     "data": {
      "text/plain": [
       "'Kan jeg mate jordnøtter til elefantene på bryllupet ditt?'"
      ]
     },
     "execution_count": 6,
     "metadata": {},
     "output_type": "execute_result"
    }
   ],
   "source": [
    "baseline_map = {}\n",
    "for _source, _results in baseline_metrics.items():\n",
    "    baseline_map[_source] = _results[\"prediction\"]\n",
    "baseline_map['can I feed peanuts to the elephants at your wedding?']\n"
   ]
  },
  {
   "cell_type": "code",
   "execution_count": 7,
   "metadata": {},
   "outputs": [
    {
     "name": "stdout",
     "output_type": "stream",
     "text": [
      "Source: can I feed peanuts to the elephants at your wedding?\n",
      "Target: Får jeg gi elefantene peanøtter?\n",
      "Pred: Kan jeg mate jordnøtter til elefantene på bryllupet ditt?\n",
      "Metrics: {'bleu': 5.52, 'r1': 0.35, 'r2': 0.0, 'rl': 0.24, 'chrF': 47.23, 'chrf++': 40.94, 'meteor': 0.23, 'bert_f1': 0.79, 'length': 57.0, 'len_ratio': 1.78}\n",
      "\n",
      "Source: of course there'll be elephants it's a stereotype that you feed them peanuts\n",
      "Target: Jo, men de får ingen peanøtter.\n",
      "Pred: Selvfølgelig vil det være elefanter det er en stereotype som du mater dem jordnøtter\n",
      "Metrics: {'bleu': 0.0, 'r1': 0.08, 'r2': 0.0, 'rl': 0.08, 'chrF': 20.61, 'chrf++': 15.46, 'meteor': 0.0, 'bert_f1': 0.68, 'length': 84.0, 'len_ratio': 2.71}\n",
      "\n",
      "Source: thank you Penny and Leonard I was kind of hoping I could sit next to Anu\n",
      "Target: Jeg vil sitte med Anu, Leonard.\n",
      "Pred: Takk Penny og Leonard jeg var litt håpet jeg kunne sitte ved siden av Anu\n",
      "Metrics: {'bleu': 3.46, 'r1': 0.36, 'r2': 0.0, 'rl': 0.27, 'chrF': 31.53, 'chrf++': 27.68, 'meteor': 0.23, 'bert_f1': 0.76, 'length': 73.0, 'len_ratio': 2.35}\n",
      "\n",
      "Source: yeah it's just we haven't done it yet and I think it's important to make sure we're compatible before we get married\n",
      "Target: Vi bør sjekke at vi passer sammen før vi gifter oss.\n",
      "Pred: Ja det er bare vi ikke har gjort det ennå og jeg tror det er viktig å være sikker på at vi er kompatibel før vi gifter oss\n",
      "Metrics: {'bleu': 9.94, 'r1': 0.38, 'r2': 0.25, 'rl': 0.38, 'chrF': 34.08, 'chrf++': 34.02, 'meteor': 0.49, 'bert_f1': 0.79, 'length': 122.0, 'len_ratio': 2.35}\n",
      "\n",
      "Source: it doesn't have to be tonight how about this weekend? I can get us a room at my hotel\n",
      "Target: Det må ikke skje i kveld. Jeg kan ordne rom på hotellet i helgen.\n",
      "Pred: Jeg kan skaffe oss et rom på hotellet mitt.\n",
      "Metrics: {'bleu': 11.28, 'r1': 0.43, 'r2': 0.29, 'rl': 0.43, 'chrF': 34.63, 'chrf++': 33.76, 'meteor': 0.37, 'bert_f1': 0.8, 'length': 43.0, 'len_ratio': 0.66}\n",
      "\n"
     ]
    }
   ],
   "source": [
    "def print_results(metrics, n=5):\n",
    "    c = 0\n",
    "    for _source, _results in metrics.items():\n",
    "        print(f\"Source: {_source}\")\n",
    "        print(f\"Target: {_results['target']}\")\n",
    "        print(f\"Pred: {_results['prediction']}\")\n",
    "        print(f\"Metrics: {_results['metrics']}\")\n",
    "        print()\n",
    "        c += 1\n",
    "        if c >= n:\n",
    "            break\n",
    "    \n",
    "print_results(baseline_metrics)"
   ]
  },
  {
   "cell_type": "markdown",
   "metadata": {},
   "source": [
    "# Model type 1"
   ]
  },
  {
   "cell_type": "code",
   "execution_count": 8,
   "metadata": {},
   "outputs": [
    {
     "name": "stderr",
     "output_type": "stream",
     "text": [
      "[nltk_data] Downloading package wordnet to /home/tollef/nltk_data...\n",
      "[nltk_data]   Package wordnet is already up-to-date!\n",
      "[nltk_data] Downloading package punkt to /home/tollef/nltk_data...\n",
      "[nltk_data]   Package punkt is already up-to-date!\n",
      "[nltk_data] Downloading package omw-1.4 to /home/tollef/nltk_data...\n",
      "[nltk_data]   Package omw-1.4 is already up-to-date!\n"
     ]
    },
    {
     "name": "stdout",
     "output_type": "stream",
     "text": [
      "Compression ratio: 0.5\n",
      "BBT/comp_0.5_results.csv\n"
     ]
    },
    {
     "name": "stderr",
     "output_type": "stream",
     "text": [
      "100%|██████████| 6/6 [00:01<00:00,  5.25it/s]\n",
      "84it [00:14,  5.94it/s]\n"
     ]
    },
    {
     "name": "stdout",
     "output_type": "stream",
     "text": [
      "Compression ratio: 0.6\n",
      "BBT/comp_0.6_results.csv\n"
     ]
    },
    {
     "name": "stderr",
     "output_type": "stream",
     "text": [
      "100%|██████████| 6/6 [00:01<00:00,  3.82it/s]\n",
      "84it [00:12,  6.76it/s]\n"
     ]
    },
    {
     "name": "stdout",
     "output_type": "stream",
     "text": [
      "Compression ratio: 0.7\n",
      "BBT/comp_0.7_results.csv\n"
     ]
    },
    {
     "name": "stderr",
     "output_type": "stream",
     "text": [
      "100%|██████████| 6/6 [00:01<00:00,  3.43it/s]\n",
      "84it [00:12,  6.96it/s]\n"
     ]
    },
    {
     "name": "stdout",
     "output_type": "stream",
     "text": [
      "Compression ratio: 0.8\n",
      "BBT/comp_0.8_results.csv\n"
     ]
    },
    {
     "name": "stderr",
     "output_type": "stream",
     "text": [
      "100%|██████████| 6/6 [00:01<00:00,  3.30it/s]\n",
      "84it [00:11,  7.02it/s]\n"
     ]
    },
    {
     "name": "stdout",
     "output_type": "stream",
     "text": [
      "Compression ratio: 0.9\n",
      "BBT/comp_0.9_results.csv\n"
     ]
    },
    {
     "name": "stderr",
     "output_type": "stream",
     "text": [
      "100%|██████████| 6/6 [00:01<00:00,  3.15it/s]\n",
      "84it [00:11,  7.30it/s]\n"
     ]
    },
    {
     "name": "stdout",
     "output_type": "stream",
     "text": [
      "Compression ratio: 1.0\n",
      "BBT/comp_1.0_results.csv\n"
     ]
    },
    {
     "name": "stderr",
     "output_type": "stream",
     "text": [
      "100%|██████████| 6/6 [00:01<00:00,  3.24it/s]\n",
      "84it [00:11,  7.34it/s]\n"
     ]
    }
   ],
   "source": [
    "from config import COMPRESSION_RATIOS\n",
    "evaluator = Evaluator()\n",
    "MODEL_DIR = \"OUTPUT\"\n",
    "lang = \"no\"\n",
    "\n",
    "model1_results = {}\n",
    "\n",
    "for comp in COMPRESSION_RATIOS:\n",
    "    print(f\"Compression ratio: {comp}\")\n",
    "    filename = f\"BBT/comp_{comp}_results.csv\"\n",
    "    os.makedirs(os.path.dirname(filename), exist_ok=True)\n",
    "    print(filename)\n",
    "    with open(filename, \"w\", newline=\"\") as f:\n",
    "        model, tokenizer = load_model(\n",
    "            path=f\"../{MODEL_DIR}/en-{lang}/{comp}\"\n",
    "        )\n",
    "        translated = translate_all(prefixed, model, tokenizer, batch_size=16)\n",
    "        _results = evaluator.get_results(\n",
    "            predictions=translated,\n",
    "            references=tar_texts,\n",
    "            source=src_texts,\n",
    "            lang=lang,\n",
    "        )\n",
    "\n",
    "        model1_results[comp] = _results"
   ]
  },
  {
   "cell_type": "code",
   "execution_count": 93,
   "metadata": {},
   "outputs": [
    {
     "name": "stdout",
     "output_type": "stream",
     "text": [
      "Compression ratio: 0.5\n",
      "Source: can I feed peanuts to the elephants at your wedding?\n",
      "Target: Får jeg gi elefantene peanøtter?\n",
      "Pred: Kan jeg gi elefanter jordnøtter?\n",
      "Metrics: {'bleu': 17.97, 'r1': 0.46, 'r2': 0.18, 'rl': 0.46, 'chrF': 61.21, 'chrf++': 54.65, 'meteor': 0.43, 'bert_f1': 0.9, 'length': 32.0, 'len_ratio': 1.0}\n",
      "\n",
      "Source: of course there'll be elephants it's a stereotype that you feed them peanuts\n",
      "Target: Jo, men de får ingen peanøtter.\n",
      "Pred: Det er en stereotype du mater peanuts.\n",
      "Metrics: {'bleu': 5.52, 'r1': 0.0, 'r2': 0.0, 'rl': 0.0, 'chrF': 16.91, 'chrf++': 14.25, 'meteor': 0.06, 'bert_f1': 0.73, 'length': 38.0, 'len_ratio': 1.23}\n",
      "\n",
      "Source: thank you Penny and Leonard I was kind of hoping I could sit next to Anu\n",
      "Target: Jeg vil sitte med Anu, Leonard.\n",
      "Pred: Takk, Penny og Leonard.\n",
      "Metrics: {'bleu': 12.87, 'r1': 0.2, 'r2': 0.0, 'rl': 0.2, 'chrF': 26.91, 'chrf++': 27.01, 'meteor': 0.33, 'bert_f1': 0.73, 'length': 23.0, 'len_ratio': 0.74}\n",
      "\n",
      "Source: yeah it's just we haven't done it yet and I think it's important to make sure we're compatible before we get married\n",
      "Target: Vi bør sjekke at vi passer sammen før vi gifter oss.\n",
      "Pred: Vi har ikke gjort det ennå.\n",
      "Metrics: {'bleu': 3.82, 'r1': 0.11, 'r2': 0.0, 'rl': 0.11, 'chrF': 10.61, 'chrf++': 10.23, 'meteor': 0.09, 'bert_f1': 0.74, 'length': 27.0, 'len_ratio': 0.52}\n",
      "\n",
      "Source: it doesn't have to be tonight how about this weekend? I can get us a room at my hotel\n",
      "Target: Det må ikke skje i kveld. Jeg kan ordne rom på hotellet i helgen.\n",
      "Pred: Jeg kan få et rom på hotellet mitt.\n",
      "Metrics: {'bleu': 10.73, 'r1': 0.45, 'r2': 0.3, 'rl': 0.45, 'chrF': 34.29, 'chrf++': 33.61, 'meteor': 0.37, 'bert_f1': 0.82, 'length': 35.0, 'len_ratio': 0.54}\n",
      "\n",
      "________________________________________\n",
      "Compression ratio: 0.6\n",
      "Source: can I feed peanuts to the elephants at your wedding?\n",
      "Target: Får jeg gi elefantene peanøtter?\n",
      "Pred: Kan jeg gi elefantene jordnødder?\n",
      "Metrics: {'bleu': 32.47, 'r1': 0.46, 'r2': 0.36, 'rl': 0.46, 'chrF': 55.63, 'chrf++': 55.06, 'meteor': 0.62, 'bert_f1': 0.87, 'length': 33.0, 'len_ratio': 1.03}\n",
      "\n",
      "Source: of course there'll be elephants it's a stereotype that you feed them peanuts\n",
      "Target: Jo, men de får ingen peanøtter.\n",
      "Pred: Det er en stereotype du mater peanøtter.\n",
      "Metrics: {'bleu': 11.04, 'r1': 0.25, 'r2': 0.14, 'rl': 0.25, 'chrF': 35.01, 'chrf++': 31.23, 'meteor': 0.23, 'bert_f1': 0.79, 'length': 40.0, 'len_ratio': 1.29}\n",
      "\n",
      "Source: thank you Penny and Leonard I was kind of hoping I could sit next to Anu\n",
      "Target: Jeg vil sitte med Anu, Leonard.\n",
      "Pred: Penny og Leonard, jeg håpet jeg kunne sitte ved siden av Anu.\n",
      "Metrics: {'bleu': 4.25, 'r1': 0.42, 'r2': 0.0, 'rl': 0.32, 'chrF': 32.87, 'chrf++': 31.46, 'meteor': 0.35, 'bert_f1': 0.82, 'length': 61.0, 'len_ratio': 1.97}\n",
      "\n",
      "Source: yeah it's just we haven't done it yet and I think it's important to make sure we're compatible before we get married\n",
      "Target: Vi bør sjekke at vi passer sammen før vi gifter oss.\n",
      "Pred: Ja, men vi har ikke gjort det ennå.\n",
      "Metrics: {'bleu': 4.09, 'r1': 0.1, 'r2': 0.0, 'rl': 0.1, 'chrF': 12.44, 'chrf++': 11.5, 'meteor': 0.08, 'bert_f1': 0.73, 'length': 35.0, 'len_ratio': 0.67}\n",
      "\n",
      "Source: it doesn't have to be tonight how about this weekend? I can get us a room at my hotel\n",
      "Target: Det må ikke skje i kveld. Jeg kan ordne rom på hotellet i helgen.\n",
      "Pred: Kan vi få et rom på hotellet mitt?\n",
      "Metrics: {'bleu': 8.15, 'r1': 0.36, 'r2': 0.2, 'rl': 0.36, 'chrF': 28.13, 'chrf++': 25.51, 'meteor': 0.25, 'bert_f1': 0.76, 'length': 34.0, 'len_ratio': 0.52}\n",
      "\n",
      "________________________________________\n",
      "Compression ratio: 0.7\n",
      "Source: can I feed peanuts to the elephants at your wedding?\n",
      "Target: Får jeg gi elefantene peanøtter?\n",
      "Pred: Kan jeg gi elefantene peanøtter?\n",
      "Metrics: {'bleu': 75.98, 'r1': 0.77, 'r2': 0.73, 'rl': 0.77, 'chrF': 88.18, 'chrf++': 86.55, 'meteor': 0.83, 'bert_f1': 0.96, 'length': 32.0, 'len_ratio': 1.0}\n",
      "\n",
      "Source: of course there'll be elephants it's a stereotype that you feed them peanuts\n",
      "Target: Jo, men de får ingen peanøtter.\n",
      "Pred: Det er en stereotype du mater peanøttene.\n",
      "Metrics: {'bleu': 5.52, 'r1': 0.12, 'r2': 0.0, 'rl': 0.12, 'chrF': 30.49, 'chrf++': 24.46, 'meteor': 0.06, 'bert_f1': 0.79, 'length': 41.0, 'len_ratio': 1.32}\n",
      "\n",
      "Source: thank you Penny and Leonard I was kind of hoping I could sit next to Anu\n",
      "Target: Jeg vil sitte med Anu, Leonard.\n",
      "Pred: Takk, Penny og Leonard. Jeg håpet jeg kunne sitte ved siden av Anu.\n",
      "Metrics: {'bleu': 6.44, 'r1': 0.4, 'r2': 0.0, 'rl': 0.3, 'chrF': 36.31, 'chrf++': 36.51, 'meteor': 0.34, 'bert_f1': 0.82, 'length': 67.0, 'len_ratio': 2.16}\n",
      "\n",
      "Source: yeah it's just we haven't done it yet and I think it's important to make sure we're compatible before we get married\n",
      "Target: Vi bør sjekke at vi passer sammen før vi gifter oss.\n",
      "Pred: Vi har ikke gjort det ennå. Det er viktig å passe på at vi er kompatible før vi gifter oss.\n",
      "Metrics: {'bleu': 19.23, 'r1': 0.48, 'r2': 0.32, 'rl': 0.48, 'chrF': 43.63, 'chrf++': 44.68, 'meteor': 0.6, 'bert_f1': 0.83, 'length': 91.0, 'len_ratio': 1.75}\n",
      "\n",
      "Source: it doesn't have to be tonight how about this weekend? I can get us a room at my hotel\n",
      "Target: Det må ikke skje i kveld. Jeg kan ordne rom på hotellet i helgen.\n",
      "Pred: Jeg kan skaffe et rom på hotellet mitt.\n",
      "Metrics: {'bleu': 10.73, 'r1': 0.45, 'r2': 0.3, 'rl': 0.45, 'chrF': 34.74, 'chrf++': 33.95, 'meteor': 0.37, 'bert_f1': 0.82, 'length': 39.0, 'len_ratio': 0.6}\n",
      "\n",
      "________________________________________\n",
      "Compression ratio: 0.8\n",
      "Source: can I feed peanuts to the elephants at your wedding?\n",
      "Target: Får jeg gi elefantene peanøtter?\n",
      "Pred: Kan jeg mate elefantene på bryllupet ditt?\n",
      "Metrics: {'bleu': 7.27, 'r1': 0.29, 'r2': 0.0, 'rl': 0.29, 'chrF': 42.51, 'chrf++': 37.74, 'meteor': 0.24, 'bert_f1': 0.78, 'length': 42.0, 'len_ratio': 1.31}\n",
      "\n",
      "Source: of course there'll be elephants it's a stereotype that you feed them peanuts\n",
      "Target: Jo, men de får ingen peanøtter.\n",
      "Pred: Det er en stereotype du mater peanøtt.\n",
      "Metrics: {'bleu': 5.52, 'r1': 0.12, 'r2': 0.0, 'rl': 0.12, 'chrF': 27.14, 'chrf++': 21.93, 'meteor': 0.06, 'bert_f1': 0.79, 'length': 38.0, 'len_ratio': 1.23}\n",
      "\n",
      "Source: thank you Penny and Leonard I was kind of hoping I could sit next to Anu\n",
      "Target: Jeg vil sitte med Anu, Leonard.\n",
      "Pred: Takk, Penny og Leonard. Jeg håpet jeg kunne sitte ved siden av Anu.\n",
      "Metrics: {'bleu': 6.44, 'r1': 0.4, 'r2': 0.0, 'rl': 0.3, 'chrF': 36.31, 'chrf++': 36.51, 'meteor': 0.34, 'bert_f1': 0.82, 'length': 67.0, 'len_ratio': 2.16}\n",
      "\n",
      "Source: yeah it's just we haven't done it yet and I think it's important to make sure we're compatible before we get married\n",
      "Target: Vi bør sjekke at vi passer sammen før vi gifter oss.\n",
      "Pred: Vi har ikke gjort det ennå. Det er viktig å passe på at vi er kompatible før vi gifter oss.\n",
      "Metrics: {'bleu': 19.23, 'r1': 0.48, 'r2': 0.32, 'rl': 0.48, 'chrF': 43.63, 'chrf++': 44.68, 'meteor': 0.6, 'bert_f1': 0.83, 'length': 91.0, 'len_ratio': 1.75}\n",
      "\n",
      "Source: it doesn't have to be tonight how about this weekend? I can get us a room at my hotel\n",
      "Target: Det må ikke skje i kveld. Jeg kan ordne rom på hotellet i helgen.\n",
      "Pred: Jeg kan skaffe et rom på hotellet mitt.\n",
      "Metrics: {'bleu': 10.73, 'r1': 0.45, 'r2': 0.3, 'rl': 0.45, 'chrF': 34.74, 'chrf++': 33.95, 'meteor': 0.37, 'bert_f1': 0.82, 'length': 39.0, 'len_ratio': 0.6}\n",
      "\n",
      "________________________________________\n",
      "Compression ratio: 0.9\n",
      "Source: can I feed peanuts to the elephants at your wedding?\n",
      "Target: Får jeg gi elefantene peanøtter?\n",
      "Pred: Kan jeg gi jordnøtter til elefantene på bryllupet deres?\n",
      "Metrics: {'bleu': 9.98, 'r1': 0.47, 'r2': 0.13, 'rl': 0.35, 'chrF': 51.99, 'chrf++': 48.51, 'meteor': 0.49, 'bert_f1': 0.79, 'length': 56.0, 'len_ratio': 1.75}\n",
      "\n",
      "Source: of course there'll be elephants it's a stereotype that you feed them peanuts\n",
      "Target: Jo, men de får ingen peanøtter.\n",
      "Pred: Det er en stereotype som du mater jordnødder til.\n",
      "Metrics: {'bleu': 4.2, 'r1': 0.0, 'r2': 0.0, 'rl': 0.0, 'chrF': 15.11, 'chrf++': 12.83, 'meteor': 0.06, 'bert_f1': 0.71, 'length': 49.0, 'len_ratio': 1.58}\n",
      "\n",
      "Source: thank you Penny and Leonard I was kind of hoping I could sit next to Anu\n",
      "Target: Jeg vil sitte med Anu, Leonard.\n",
      "Pred: Takk, Penny og Leonard, jeg håpet jeg kunne sitte ved siden av Anu.\n",
      "Metrics: {'bleu': 3.66, 'r1': 0.4, 'r2': 0.0, 'rl': 0.3, 'chrF': 31.79, 'chrf++': 30.36, 'meteor': 0.34, 'bert_f1': 0.82, 'length': 67.0, 'len_ratio': 2.16}\n",
      "\n",
      "Source: yeah it's just we haven't done it yet and I think it's important to make sure we're compatible before we get married\n",
      "Target: Vi bør sjekke at vi passer sammen før vi gifter oss.\n",
      "Pred: Ja, men vi har ikke gjort det ennå, og jeg tror det er viktig å sørge for at vi er kompatible før vi gifter oss.\n",
      "Metrics: {'bleu': 14.38, 'r1': 0.41, 'r2': 0.27, 'rl': 0.41, 'chrF': 38.75, 'chrf++': 39.24, 'meteor': 0.57, 'bert_f1': 0.8, 'length': 112.0, 'len_ratio': 2.15}\n",
      "\n",
      "Source: it doesn't have to be tonight how about this weekend? I can get us a room at my hotel\n",
      "Target: Det må ikke skje i kveld. Jeg kan ordne rom på hotellet i helgen.\n",
      "Pred: Jeg kan skaffe oss et rom på hotellet mitt.\n",
      "Metrics: {'bleu': 11.28, 'r1': 0.43, 'r2': 0.29, 'rl': 0.43, 'chrF': 34.63, 'chrf++': 33.76, 'meteor': 0.37, 'bert_f1': 0.8, 'length': 43.0, 'len_ratio': 0.66}\n",
      "\n",
      "________________________________________\n",
      "Compression ratio: 1.0\n",
      "Source: can I feed peanuts to the elephants at your wedding?\n",
      "Target: Får jeg gi elefantene peanøtter?\n",
      "Pred: Kan jeg gi jordnøtter til elefantene på bryllupet deres?\n",
      "Metrics: {'bleu': 9.98, 'r1': 0.47, 'r2': 0.13, 'rl': 0.35, 'chrF': 51.99, 'chrf++': 48.51, 'meteor': 0.49, 'bert_f1': 0.79, 'length': 56.0, 'len_ratio': 1.75}\n",
      "\n",
      "Source: of course there'll be elephants it's a stereotype that you feed them peanuts\n",
      "Target: Jo, men de får ingen peanøtter.\n",
      "Pred: Naturligvis er det elefanter. Det er en stereotype du mater peanuts.\n",
      "Metrics: {'bleu': 3.09, 'r1': 0.0, 'r2': 0.0, 'rl': 0.0, 'chrF': 18.91, 'chrf++': 15.6, 'meteor': 0.06, 'bert_f1': 0.71, 'length': 68.0, 'len_ratio': 2.19}\n",
      "\n",
      "Source: thank you Penny and Leonard I was kind of hoping I could sit next to Anu\n",
      "Target: Jeg vil sitte med Anu, Leonard.\n",
      "Pred: Takk, Penny og Leonard. Jeg håpet jeg kunne sitte ved siden av Anu.\n",
      "Metrics: {'bleu': 6.44, 'r1': 0.4, 'r2': 0.0, 'rl': 0.3, 'chrF': 36.31, 'chrf++': 36.51, 'meteor': 0.34, 'bert_f1': 0.82, 'length': 67.0, 'len_ratio': 2.16}\n",
      "\n",
      "Source: yeah it's just we haven't done it yet and I think it's important to make sure we're compatible before we get married\n",
      "Target: Vi bør sjekke at vi passer sammen før vi gifter oss.\n",
      "Pred: Ja, men vi har ikke gjort det ennå, og jeg tror det er viktig å sørge for at vi er kompatible før vi gifter oss.\n",
      "Metrics: {'bleu': 14.38, 'r1': 0.41, 'r2': 0.27, 'rl': 0.41, 'chrF': 38.75, 'chrf++': 39.24, 'meteor': 0.57, 'bert_f1': 0.8, 'length': 112.0, 'len_ratio': 2.15}\n",
      "\n",
      "Source: it doesn't have to be tonight how about this weekend? I can get us a room at my hotel\n",
      "Target: Det må ikke skje i kveld. Jeg kan ordne rom på hotellet i helgen.\n",
      "Pred: Jeg kan skaffe oss et rom på hotellet mitt.\n",
      "Metrics: {'bleu': 11.28, 'r1': 0.43, 'r2': 0.29, 'rl': 0.43, 'chrF': 34.63, 'chrf++': 33.76, 'meteor': 0.37, 'bert_f1': 0.8, 'length': 43.0, 'len_ratio': 0.66}\n",
      "\n",
      "________________________________________\n"
     ]
    }
   ],
   "source": [
    "for comp, results in model1_results.items():\n",
    "    print(f\"Compression ratio: {comp}\")\n",
    "    print_results(results)\n",
    "    print(\"_\"*40)"
   ]
  },
  {
   "cell_type": "code",
   "execution_count": 84,
   "metadata": {},
   "outputs": [
    {
     "data": {
      "text/plain": [
       "dict_keys([0.5, 0.6, 0.7, 0.8, 0.9, 1.0])"
      ]
     },
     "execution_count": 84,
     "metadata": {},
     "output_type": "execute_result"
    }
   ],
   "source": [
    "model1_results.keys()"
   ]
  },
  {
   "cell_type": "code",
   "execution_count": 94,
   "metadata": {},
   "outputs": [
    {
     "name": "stdout",
     "output_type": "stream",
     "text": [
      "can I feed peanuts to the elephants at your wedding?\n",
      "you realise we still have a lot of work to do before we can publish\n",
      "It's kinda beautiful isn't it?\n",
      "can I feed peanuts to the elephants at your wedding?\n",
      "you realise we still have a lot of work to do before we can publish\n",
      "It's kinda beautiful isn't it?\n",
      "can I feed peanuts to the elephants at your wedding?\n",
      "you realise we still have a lot of work to do before we can publish\n",
      "It's kinda beautiful isn't it?\n",
      "can I feed peanuts to the elephants at your wedding?\n",
      "Får jeg gi elefantene peanøtter?\n"
     ]
    },
    {
     "data": {
      "text/html": [
       "<div>\n",
       "<style scoped>\n",
       "    .dataframe tbody tr th:only-of-type {\n",
       "        vertical-align: middle;\n",
       "    }\n",
       "\n",
       "    .dataframe tbody tr th {\n",
       "        vertical-align: top;\n",
       "    }\n",
       "\n",
       "    .dataframe thead th {\n",
       "        text-align: right;\n",
       "    }\n",
       "</style>\n",
       "<table border=\"1\" class=\"dataframe\">\n",
       "  <thead>\n",
       "    <tr style=\"text-align: right;\">\n",
       "      <th></th>\n",
       "      <th>0.5</th>\n",
       "      <th>0.7</th>\n",
       "      <th>1.0</th>\n",
       "    </tr>\n",
       "  </thead>\n",
       "  <tbody>\n",
       "    <tr>\n",
       "      <th>0</th>\n",
       "      <td>0.5</td>\n",
       "      <td>0.7</td>\n",
       "      <td>1.0</td>\n",
       "    </tr>\n",
       "    <tr>\n",
       "      <th>1</th>\n",
       "      <td>Kan jeg gi elefanter jordnøtter?</td>\n",
       "      <td>Kan jeg gi elefantene peanøtter?</td>\n",
       "      <td>Kan jeg gi jordnøtter til elefantene på bryllupet deres?</td>\n",
       "    </tr>\n",
       "  </tbody>\n",
       "</table>\n",
       "</div>"
      ],
      "text/plain": [
       "                                0.5                               0.7  \\\n",
       "0                               0.5                               0.7   \n",
       "1  Kan jeg gi elefanter jordnøtter?  Kan jeg gi elefantene peanøtter?   \n",
       "\n",
       "                                                        1.0  \n",
       "0                                                       1.0  \n",
       "1  Kan jeg gi jordnøtter til elefantene på bryllupet deres?  "
      ]
     },
     "metadata": {},
     "output_type": "display_data"
    },
    {
     "name": "stdout",
     "output_type": "stream",
     "text": [
      "you realise we still have a lot of work to do before we can publish\n",
      "Det er fremdeles mye som gjenstår.\n"
     ]
    },
    {
     "data": {
      "text/html": [
       "<div>\n",
       "<style scoped>\n",
       "    .dataframe tbody tr th:only-of-type {\n",
       "        vertical-align: middle;\n",
       "    }\n",
       "\n",
       "    .dataframe tbody tr th {\n",
       "        vertical-align: top;\n",
       "    }\n",
       "\n",
       "    .dataframe thead th {\n",
       "        text-align: right;\n",
       "    }\n",
       "</style>\n",
       "<table border=\"1\" class=\"dataframe\">\n",
       "  <thead>\n",
       "    <tr style=\"text-align: right;\">\n",
       "      <th></th>\n",
       "      <th>0.5</th>\n",
       "      <th>0.7</th>\n",
       "      <th>1.0</th>\n",
       "    </tr>\n",
       "  </thead>\n",
       "  <tbody>\n",
       "    <tr>\n",
       "      <th>0</th>\n",
       "      <td>0.5</td>\n",
       "      <td>0.7</td>\n",
       "      <td>1.0</td>\n",
       "    </tr>\n",
       "    <tr>\n",
       "      <th>1</th>\n",
       "      <td>Vi har mye å gjøre før vi kan publisere.</td>\n",
       "      <td>Vi har mye å gjøre før vi kan publisere.</td>\n",
       "      <td>Vi har fortsatt mye å gjøre før vi kan publisere.</td>\n",
       "    </tr>\n",
       "  </tbody>\n",
       "</table>\n",
       "</div>"
      ],
      "text/plain": [
       "                                        0.5  \\\n",
       "0                                       0.5   \n",
       "1  Vi har mye å gjøre før vi kan publisere.   \n",
       "\n",
       "                                        0.7  \\\n",
       "0                                       0.7   \n",
       "1  Vi har mye å gjøre før vi kan publisere.   \n",
       "\n",
       "                                                 1.0  \n",
       "0                                                1.0  \n",
       "1  Vi har fortsatt mye å gjøre før vi kan publisere.  "
      ]
     },
     "metadata": {},
     "output_type": "display_data"
    },
    {
     "name": "stdout",
     "output_type": "stream",
     "text": [
      "It's kinda beautiful isn't it?\n",
      "Det er jo vakkert.\n"
     ]
    },
    {
     "data": {
      "text/html": [
       "<div>\n",
       "<style scoped>\n",
       "    .dataframe tbody tr th:only-of-type {\n",
       "        vertical-align: middle;\n",
       "    }\n",
       "\n",
       "    .dataframe tbody tr th {\n",
       "        vertical-align: top;\n",
       "    }\n",
       "\n",
       "    .dataframe thead th {\n",
       "        text-align: right;\n",
       "    }\n",
       "</style>\n",
       "<table border=\"1\" class=\"dataframe\">\n",
       "  <thead>\n",
       "    <tr style=\"text-align: right;\">\n",
       "      <th></th>\n",
       "      <th>0.5</th>\n",
       "      <th>0.7</th>\n",
       "      <th>1.0</th>\n",
       "    </tr>\n",
       "  </thead>\n",
       "  <tbody>\n",
       "    <tr>\n",
       "      <th>0</th>\n",
       "      <td>0.5</td>\n",
       "      <td>0.7</td>\n",
       "      <td>1.0</td>\n",
       "    </tr>\n",
       "    <tr>\n",
       "      <th>1</th>\n",
       "      <td>Er det ikke vakkert?</td>\n",
       "      <td>Er det ikke vakkert?</td>\n",
       "      <td>Det er vakkert, ikke sant?</td>\n",
       "    </tr>\n",
       "  </tbody>\n",
       "</table>\n",
       "</div>"
      ],
      "text/plain": [
       "                    0.5                   0.7                         1.0\n",
       "0                   0.5                   0.7                         1.0\n",
       "1  Er det ikke vakkert?  Er det ikke vakkert?  Det er vakkert, ikke sant?"
      ]
     },
     "metadata": {},
     "output_type": "display_data"
    }
   ],
   "source": [
    "import pandas as pd\n",
    "from collections import defaultdict\n",
    "from IPython.display import display\n",
    "\n",
    "included_compressions = [0.5, 0.7, 1.0]\n",
    "interesting_sentences = [\n",
    "    \"can I feed peanuts to the elephants at your wedding?\",\n",
    "    \"you realise we still have a lot of work to do before we can publish\",\n",
    "    \"It's kinda beautiful isn't it?\"\n",
    "]\n",
    "interesting_sentences = [sentence.lower() for sentence in interesting_sentences]\n",
    "\n",
    "gathered_data = defaultdict(list)\n",
    "for comp, results in model1_results.items():\n",
    "    if comp not in included_compressions:\n",
    "        continue\n",
    "    \n",
    "    for _source, _results in results.items():\n",
    "        if _source.lower() not in interesting_sentences:\n",
    "            continue\n",
    "        print(_source)\n",
    "            \n",
    "        pred = _results[\"prediction\"]\n",
    "        # gathered_data[sample_sizes][comp].append(pred)\n",
    "        gathered_data[(_source, _results[\"target\"])].append((comp, pred))\n",
    "\n",
    "for (source, target), data in gathered_data.items():\n",
    "    print(source)\n",
    "    print(target)\n",
    "    df = pd.DataFrame(data).T\n",
    "    df.columns = included_compressions\n",
    "    # ensure to display the full width of the text:\n",
    "    # pd.set_option('display.max_colwidth', None)\n",
    "    display(df)\n",
    "    # print(\"_\"*40)"
   ]
  }
 ],
 "metadata": {
  "kernelspec": {
   "display_name": "Python 3",
   "language": "python",
   "name": "python3"
  },
  "language_info": {
   "codemirror_mode": {
    "name": "ipython",
    "version": 3
   },
   "file_extension": ".py",
   "mimetype": "text/x-python",
   "name": "python",
   "nbconvert_exporter": "python",
   "pygments_lexer": "ipython3",
   "version": "3.10.12"
  }
 },
 "nbformat": 4,
 "nbformat_minor": 2
}
